{
 "cells": [
  {
   "cell_type": "code",
   "execution_count": 1,
   "id": "578eb232-88f7-4d49-bc23-6c677f54dc85",
   "metadata": {},
   "outputs": [
    {
     "name": "stdout",
     "output_type": "stream",
     "text": [
      "Select a point location on the map using the 'Draw a marker' tool, then run the next cell.\n"
     ]
    },
    {
     "data": {
      "application/vnd.jupyter.widget-view+json": {
       "model_id": "129080dea1e54edda152d605da34b640",
       "version_major": 2,
       "version_minor": 0
      },
      "text/plain": [
       "Map(center=[55.0, 10.0], controls=(WidgetControl(options=['position', 'transparent_bg'], widget=SearchDataGUI(…"
      ]
     },
     "execution_count": 1,
     "metadata": {},
     "output_type": "execute_result"
    }
   ],
   "source": [
    "import ee\n",
    "import geemap\n",
    "\n",
    "# Initialize Earth Engine\n",
    "ee.Initialize()\n",
    "\n",
    "# Create an interactive map\n",
    "Map = geemap.Map(center=[55.0, 10.0], zoom=6)\n",
    "Map.add_basemap(\"hybrid\")\n",
    "print(\"Select a point location on the map using the 'Draw a marker' tool, then run the next cell.\")\n",
    "Map  # Displays the interactive map in Jupyter Notebook"
   ]
  },
  {
   "cell_type": "code",
   "execution_count": 3,
   "id": "d0a525d6-c599-4575-aba8-4d58f9fde3d1",
   "metadata": {
    "scrolled": true
   },
   "outputs": [
    {
     "data": {
      "text/html": [
       "\n",
       "            <style>\n",
       "                .geemap-dark {\n",
       "                    --jp-widgets-color: white;\n",
       "                    --jp-widgets-label-color: white;\n",
       "                    --jp-ui-font-color1: white;\n",
       "                    --jp-layout-color2: #454545;\n",
       "                    background-color: #383838;\n",
       "                }\n",
       "\n",
       "                .geemap-dark .jupyter-button {\n",
       "                    --jp-layout-color3: #383838;\n",
       "                }\n",
       "\n",
       "                .geemap-colab {\n",
       "                    background-color: var(--colab-primary-surface-color, white);\n",
       "                }\n",
       "\n",
       "                .geemap-colab .jupyter-button {\n",
       "                    --jp-layout-color3: var(--colab-primary-surface-color, white);\n",
       "                }\n",
       "            </style>\n",
       "            "
      ],
      "text/plain": [
       "<IPython.core.display.HTML object>"
      ]
     },
     "metadata": {},
     "output_type": "display_data"
    },
    {
     "name": "stdout",
     "output_type": "stream",
     "text": [
      "Selected Location: Longitude = -122.975121, Latitude = 49.122661\n",
      "SMAP Pixel Scale: 10593.328944046672 meters\n",
      "SMAP pixel vectorized and displayed.\n"
     ]
    }
   ],
   "source": [
    "import ee\n",
    "\n",
    "# Ensure Map is defined\n",
    "if 'Map' not in globals():\n",
    "    print(\"Error: The map is not defined. Please run the first cell to create the map.\")\n",
    "else:\n",
    "    # Get the selected point\n",
    "    point = Map.draw_last_feature\n",
    "\n",
    "    if point:\n",
    "        coords = point.geometry().coordinates().getInfo()\n",
    "        lon, lat = coords[0], coords[1]\n",
    "        print(f\"Selected Location: Longitude = {lon}, Latitude = {lat}\")\n",
    "\n",
    "        # Function to display the SMAP image and vectorize the selected pixel boundary\n",
    "        def display_smap_pixel(lon, lat):\n",
    "            feature = ee.Geometry.Point([lon, lat])\n",
    "\n",
    "            # Get the latest available SMAP image at this location\n",
    "            smap_image = ee.ImageCollection('NASA/SMAP/SPL4SMGP/007') \\\n",
    "                .filterDate('2019-01-01', '2019-12-31') \\\n",
    "                .filterBounds(feature) \\\n",
    "                .sort('system:time_start', False) \\\n",
    "                .first()  # Get the most recent SMAP image\n",
    "\n",
    "            if smap_image:\n",
    "                # Select the 'sm_surface' band\n",
    "                sm_surface = smap_image.select('sm_surface')\n",
    "\n",
    "                # Get the projection and scale dynamically\n",
    "                projection = sm_surface.projection()\n",
    "                scale = projection.nominalScale().getInfo()  # Resolution in meters\n",
    "\n",
    "                if scale is None:\n",
    "                    print(\"Error: Could not determine SMAP pixel scale.\")\n",
    "                    return\n",
    "\n",
    "                print(f\"SMAP Pixel Scale: {scale} meters\")\n",
    "\n",
    "                # Extract the pixel value at the selected point\n",
    "                pixel_value = sm_surface.reduceRegion(\n",
    "                    reducer=ee.Reducer.first(),\n",
    "                    geometry=feature,\n",
    "                    scale=scale,  # Use extracted scale\n",
    "                    bestEffort=True\n",
    "                ).get('sm_surface')\n",
    "\n",
    "                # Ensure the pixel value exists before proceeding\n",
    "                if pixel_value is None:\n",
    "                    print(\"No valid SMAP pixel found at this location.\")\n",
    "                    return\n",
    "\n",
    "                # Convert the floating-point pixel value to an integer\n",
    "                scaling_factor = 10000  # To preserve decimal precision\n",
    "                pixel_value_int = ee.Number(pixel_value).multiply(scaling_factor).int()\n",
    "\n",
    "                # Convert the extracted pixel value into an EE image\n",
    "                pixel_value_img = ee.Image.constant(pixel_value_int)\n",
    "\n",
    "                # Convert SMAP values to integers for vectorization\n",
    "                sm_surface_int = sm_surface.multiply(scaling_factor).int()\n",
    "\n",
    "                # Create a mask to isolate the selected pixel\n",
    "                pixel_mask = sm_surface_int.eq(pixel_value_img)\n",
    "                isolated_pixel = sm_surface_int.updateMask(pixel_mask)\n",
    "\n",
    "                # Crop the image to a small buffer around the selected point\n",
    "                buffer_size = scale * 2  # Buffer size twice the pixel size\n",
    "                clipped_image = isolated_pixel.clip(feature.buffer(buffer_size))\n",
    "\n",
    "                # Convert the isolated pixel into a vector using `.reduceToVectors()`\n",
    "                pixel_vector = clipped_image.reduceToVectors(\n",
    "                    geometryType='polygon',\n",
    "                    reducer=ee.Reducer.countEvery(),\n",
    "                    scale=scale,  # Use extracted scale\n",
    "                    geometry=clipped_image.geometry(),  # Ensure the operation is bounded\n",
    "                    bestEffort=True\n",
    "                )\n",
    "\n",
    "                # Add the SMAP image to the map\n",
    "                smap_vis = {\n",
    "                    'min': 0.0, \n",
    "                    'max': 0.5, \n",
    "                    'palette': ['blue', 'cyan', 'green', 'yellow', 'red']\n",
    "                }\n",
    "                Map.addLayer(sm_surface, smap_vis, 'SMAP Soil Moisture')\n",
    "\n",
    "                # Add the vectorized SMAP pixel boundary in bright yellow\n",
    "                Map.addLayer(pixel_vector, {'color': 'yellow', 'width': 2}, 'Vectorized SMAP Pixel')\n",
    "\n",
    "                # Center the map on the selected pixel\n",
    "                Map.set_center(lon, lat, 9)\n",
    "                print(\"SMAP pixel vectorized and displayed.\")\n",
    "\n",
    "            else:\n",
    "                print(\"No SMAP data available at the selected location.\")\n",
    "\n",
    "        # Display the SMAP image and vectorized pixel boundary\n",
    "        display_smap_pixel(lon, lat)\n",
    "\n",
    "        # Refresh map\n",
    "        Map\n",
    "\n",
    "    else:\n",
    "        print(\"No point selected. Please click on the map and run this cell again.\")\n"
   ]
  },
  {
   "cell_type": "code",
   "execution_count": 4,
   "id": "39ea2994-5ab3-4dd7-96e8-4d0a469edb58",
   "metadata": {},
   "outputs": [
    {
     "data": {
      "text/html": [
       "\n",
       "            <style>\n",
       "                .geemap-dark {\n",
       "                    --jp-widgets-color: white;\n",
       "                    --jp-widgets-label-color: white;\n",
       "                    --jp-ui-font-color1: white;\n",
       "                    --jp-layout-color2: #454545;\n",
       "                    background-color: #383838;\n",
       "                }\n",
       "\n",
       "                .geemap-dark .jupyter-button {\n",
       "                    --jp-layout-color3: #383838;\n",
       "                }\n",
       "\n",
       "                .geemap-colab {\n",
       "                    background-color: var(--colab-primary-surface-color, white);\n",
       "                }\n",
       "\n",
       "                .geemap-colab .jupyter-button {\n",
       "                    --jp-layout-color3: var(--colab-primary-surface-color, white);\n",
       "                }\n",
       "            </style>\n",
       "            "
      ],
      "text/plain": [
       "<IPython.core.display.HTML object>"
      ]
     },
     "metadata": {},
     "output_type": "display_data"
    },
    {
     "name": "stdout",
     "output_type": "stream",
     "text": [
      "Extracting SMAP data for Longitude = -122.975121, Latitude = 49.122661\n",
      "Using dynamically extracted SMAP scale: 10593.328944046672 meters\n"
     ]
    },
    {
     "name": "stderr",
     "output_type": "stream",
     "text": [
      "100%|████████████████████████████████████████████████████████████████████████████████████| 6/6 [07:53<00:00, 79.00s/it]"
     ]
    },
    {
     "name": "stdout",
     "output_type": "stream",
     "text": [
      "SMAP data extraction completed. File saved as smap_monthly_data.csv\n"
     ]
    },
    {
     "name": "stderr",
     "output_type": "stream",
     "text": [
      "\n"
     ]
    }
   ],
   "source": [
    "import pandas as pd\n",
    "from tqdm import tqdm\n",
    "\n",
    "# Ensure Map is defined\n",
    "if 'Map' not in globals():\n",
    "    print(\"Error: The map is not defined. Please run the first cell to create the map.\")\n",
    "else:\n",
    "    # Get the selected point again\n",
    "    point = Map.draw_last_feature\n",
    "\n",
    "    if point:\n",
    "        coords = point.geometry().coordinates().getInfo()\n",
    "        lon, lat = coords[0], coords[1]\n",
    "        print(f\"Extracting SMAP data for Longitude = {lon}, Latitude = {lat}\")\n",
    "\n",
    "        # Function to extract SMAP monthly mean soil moisture data\n",
    "        def get_smap_monthly_data(lon, lat):\n",
    "            feature = ee.Geometry.Point([lon, lat])\n",
    "            smap_list = []\n",
    "\n",
    "            # Retrieve the scale dynamically from the SMAP image\n",
    "            smap_sample_image = ee.ImageCollection('NASA/SMAP/SPL4SMGP/007') \\\n",
    "                .filterBounds(feature) \\\n",
    "                .first()  # Get a sample SMAP image\n",
    "            \n",
    "            if smap_sample_image:\n",
    "                scale = smap_sample_image.select('sm_surface').projection().nominalScale().getInfo()\n",
    "                print(f\"Using dynamically extracted SMAP scale: {scale} meters\")\n",
    "            else:\n",
    "                print(\"Error: Could not retrieve SMAP scale.\")\n",
    "                return\n",
    "\n",
    "            for year in tqdm(range(2014, 2020)):  # Extracts data from 2014 to 2019\n",
    "                for month in range(1, 13):  # Loops over each month\n",
    "                    start_date = f\"{year}-{month:02d}-01\"\n",
    "                    end_date = f\"{year}-{month+1:02d}-01\" if month < 12 else f\"{year+1}-01-01\"\n",
    "\n",
    "                    smSurface = (\n",
    "                        ee.ImageCollection('NASA/SMAP/SPL4SMGP/007')\n",
    "                        .filter(ee.Filter.date(start_date, end_date))\n",
    "                        .filterBounds(feature)\n",
    "                        .select('sm_surface')\n",
    "                    )\n",
    "\n",
    "                    # Calculate monthly mean soil moisture\n",
    "                    monthly_mean = smSurface.mean().reduceRegion(\n",
    "                        reducer=ee.Reducer.mean(),\n",
    "                        geometry=feature,\n",
    "                        scale=scale,  # Use dynamically extracted scale\n",
    "                        bestEffort=True\n",
    "                    ).getInfo()\n",
    "\n",
    "                    if monthly_mean:\n",
    "                        df = pd.DataFrame(monthly_mean.items(), columns=['Variable', 'sm_surface'])\n",
    "                        df['Year'] = year\n",
    "                        df['Month'] = month\n",
    "                        df['Longitude'] = lon\n",
    "                        df['Latitude'] = lat\n",
    "                        df = df.drop(['Variable'], axis=1)\n",
    "\n",
    "                        smap_list.append(df)\n",
    "\n",
    "            if smap_list:\n",
    "                final_df = pd.concat(smap_list, ignore_index=True)\n",
    "                final_df.to_csv('smap_monthly_data.csv', mode='a', index=False, header=True)\n",
    "                print(\"SMAP data extraction completed. File saved as smap_monthly_data.csv\")\n",
    "\n",
    "        # Extract SMAP monthly mean data\n",
    "        get_smap_monthly_data(lon, lat)\n",
    "\n",
    "    else:\n",
    "        print(\"No point selected. Please click on the map and run this cell again.\")\n"
   ]
  },
  {
   "cell_type": "code",
   "execution_count": null,
   "id": "14979690-8934-4b49-b320-3bac1963050e",
   "metadata": {},
   "outputs": [],
   "source": []
  }
 ],
 "metadata": {
  "kernelspec": {
   "display_name": "Python 3 (ipykernel)",
   "language": "python",
   "name": "python3"
  },
  "language_info": {
   "codemirror_mode": {
    "name": "ipython",
    "version": 3
   },
   "file_extension": ".py",
   "mimetype": "text/x-python",
   "name": "python",
   "nbconvert_exporter": "python",
   "pygments_lexer": "ipython3",
   "version": "3.12.3"
  }
 },
 "nbformat": 4,
 "nbformat_minor": 5
}
